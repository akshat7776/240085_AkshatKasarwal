{
  "cells": [
    {
      "cell_type": "code",
      "execution_count": 19,
      "id": "0631e3b3",
      "metadata": {
        "colab": {
          "base_uri": "https://localhost:8080/"
        },
        "id": "0631e3b3",
        "outputId": "e50fb7fd-fc6a-4f67-e5aa-21ee575a7e1f"
      },
      "outputs": [
        {
          "name": "stdout",
          "output_type": "stream",
          "text": [
            "Enter the mass of body 1 (in kg): 1\n",
            "Enter the mass of body 2 (in kg): 2\n",
            "Enter the x-coordinate of body 1: 1\n",
            "Enter the y-coordinate of body 1: 1\n",
            "Enter the x-coordinate of body 2: 2\n",
            "Enter the y-coordinate of body 2: 3\n",
            "Enter the x-velocity of body 1: 1\n",
            "Enter the y-velocity of body 1: 1\n",
            "Enter the x-velocity of body 2: 2\n",
            "Enter the y-velocity of body 2: 2\n",
            "\n",
            "Enter the time (in seconds) at which prediction is required: 1\n"
          ]
        }
      ],
      "source": [
        "import torch\n",
        "\n",
        "G = 6.67408e-11\n",
        "\n",
        "mass1 = float(input(\"Enter the mass of body 1 (in kg): \"))\n",
        "mass2 = float(input(\"Enter the mass of body 2 (in kg): \"))\n",
        "m1 = torch.tensor([mass1], requires_grad=False)\n",
        "m2 = torch.tensor([mass2], requires_grad=False)\n",
        "\n",
        "\n",
        "x1_initial = float(input(\"Enter the x-coordinate of body 1: \"))\n",
        "y1_initial = float(input(\"Enter the y-coordinate of body 1: \"))\n",
        "x2_initial = float(input(\"Enter the x-coordinate of body 2: \"))\n",
        "y2_initial = float(input(\"Enter the y-coordinate of body 2: \"))\n",
        "x1_0 = torch.tensor([x1_initial, y1_initial], requires_grad=True)\n",
        "x2_0 = torch.tensor([x2_initial, y2_initial], requires_grad=True)\n",
        "\n",
        "\n",
        "vx1_initial = float(input(\"Enter the x-velocity of body 1: \"))\n",
        "vy1_initial = float(input(\"Enter the y-velocity of body 1: \"))\n",
        "vx2_initial = float(input(\"Enter the x-velocity of body 2: \"))\n",
        "vy2_initial = float(input(\"Enter the y-velocity of body 2: \"))\n",
        "v1_0 = torch.tensor([vx1_initial, vy1_initial], requires_grad=True)\n",
        "v2_0 = torch.tensor([vx2_initial, vy2_initial], requires_grad=True)\n",
        "\n",
        "t = float(input(\"\\nEnter the time (in seconds) at which prediction is required: \"))\n",
        "T = torch.tensor([t], requires_grad=True)\n"
      ]
    },
    {
      "cell_type": "code",
      "execution_count": 20,
      "id": "d597be7c",
      "metadata": {
        "id": "d597be7c"
      },
      "outputs": [],
      "source": [
        "import numpy as np\n",
        "\n",
        "n_samples = 100\n",
        "times = torch.linspace(0, 10, n_samples).view(-1, 1)\n",
        "\n",
        "def numerical_solver(t, x1_0,x2_0,v1_0, v2_0, m1, m2):\n",
        "    x1 = x1_0.detach().numpy()\n",
        "    x2 = x2_0.detach().numpy()\n",
        "    v1 = v1_0.detach().numpy()\n",
        "    v2 = v2_0.detach().numpy()\n",
        "    dt = 0.1\n",
        "    positions = []\n",
        "\n",
        "    for _ in t:\n",
        "        r = x2 - x1\n",
        "        dist3 = np.linalg.norm(r) ** 3\n",
        "        a1 = G * m2.item() * r / dist3\n",
        "        a2 = -G * m1.item() * r / dist3\n",
        "\n",
        "        v1 += a1 * dt\n",
        "        v2 += a2 * dt\n",
        "        x1 += v1 * dt\n",
        "        x2 += v2 * dt\n",
        "\n",
        "        positions.append(np.concatenate([x1, x2]))\n",
        "\n",
        "    return torch.tensor(positions, dtype=torch.float32)\n",
        "\n",
        "positions = numerical_solver(times, x1_0, x2_0, v1_0, v2_0, m1, m2)\n"
      ]
    },
    {
      "cell_type": "code",
      "execution_count": 24,
      "id": "756b36be",
      "metadata": {
        "id": "756b36be"
      },
      "outputs": [],
      "source": [
        "import torch.nn as nn\n",
        "\n",
        "class PlanetNet(nn.Module):\n",
        "    def __init__(self):\n",
        "        super().__init__()\n",
        "        self.net = nn.Sequential(\n",
        "            nn.Linear(1, 64),\n",
        "            nn.Tanh(),\n",
        "            nn.Linear(64, 64),\n",
        "            nn.Tanh(),\n",
        "            nn.Linear(64, 4)\n",
        "        )\n",
        "\n",
        "    def forward(self, t):\n",
        "        return self.net(t)\n",
        "\n",
        "model = PlanetNet()\n"
      ]
    },
    {
      "cell_type": "code",
      "execution_count": 27,
      "id": "7892c261",
      "metadata": {
        "id": "7892c261"
      },
      "outputs": [],
      "source": [
        "# ODE LOSS FUNCTION\n",
        "def ode_loss(model,t,m1,m2):\n",
        " t.requires_grad_(True)\n",
        " pred=model(t)\n",
        " x1=pred[:,0:2]\n",
        " x2=pred[:, 2:4]\n",
        "\n",
        " r=x2 - x1\n",
        " dist3=(r.norm(dim=1,keepdim=True)**3)\n",
        " dx=[]\n",
        "\n",
        " for i in range(4):\n",
        "  grad_i=torch.autograd.grad(pred[:,i],t,grad_outputs=torch.ones_like(pred[:,i]),create_graph=True)[0]\n",
        "  dx.append(grad_i)\n",
        " dx=torch.cat(dx,dim=1)\n",
        " d2x=[]\n",
        "\n",
        " for i in range(4):\n",
        "  grad2_i=torch.autograd.grad(dx[:,i],t, grad_outputs=torch.ones_like(dx[:,i]),create_graph=True)[0]\n",
        "  d2x.append(grad2_i)\n",
        " d2x=torch.cat(d2x,dim=1)\n",
        " a1_pred=d2x[:,0:2]\n",
        " a2_pred=d2x[:,2:4]\n",
        " a1_true=G*m2*r/dist3\n",
        " a2_true= -G*m1*r/dist3\n",
        " return ((a1_pred -a1_true)**2).mean()+((a2_pred-a2_true)**2).mean()\n"
      ]
    },
    {
      "cell_type": "code",
      "execution_count": 28,
      "id": "551a22d5",
      "metadata": {
        "colab": {
          "base_uri": "https://localhost:8080/"
        },
        "id": "551a22d5",
        "outputId": "bc5f0dc8-f2be-4ee1-a968-86bcaa5bd80d"
      },
      "outputs": [
        {
          "output_type": "stream",
          "name": "stdout",
          "text": [
            "Epoch 0, Loss: 116.406891, Data Loss: 116.406281, ODE Loss: 0.006102\n",
            "Epoch 100, Loss: 28.969120, Data Loss: 28.698736, ODE Loss: 2.703833\n",
            "Epoch 200, Loss: 11.054822, Data Loss: 10.983084, ODE Loss: 0.717384\n",
            "Epoch 300, Loss: 4.475693, Data Loss: 4.428189, ODE Loss: 0.475040\n",
            "Epoch 400, Loss: 2.026126, Data Loss: 1.992225, ODE Loss: 0.339014\n",
            "Epoch 500, Loss: 1.009583, Data Loss: 0.983505, ODE Loss: 0.260783\n",
            "Epoch 600, Loss: 0.550669, Data Loss: 0.527448, ODE Loss: 0.232208\n",
            "Epoch 700, Loss: 0.326713, Data Loss: 0.304598, ODE Loss: 0.221150\n",
            "Epoch 800, Loss: 0.208745, Data Loss: 0.187211, ODE Loss: 0.215340\n",
            "Epoch 900, Loss: 0.142308, Data Loss: 0.121332, ODE Loss: 0.209757\n"
          ]
        }
      ],
      "source": [
        "# TRAINING\n",
        "import torch.optim as optim\n",
        "\n",
        "optimizer=optim.Adam(model.parameters(),lr=1e-3)\n",
        "epochs=1000\n",
        "\n",
        "for epoch in range(epochs):\n",
        " model.train()\n",
        " optimizer.zero_grad()\n",
        "\n",
        " pred=model(times)\n",
        " loss_data=nn.MSELoss()(pred,positions)\n",
        " loss_physics=ode_loss(model,times,m1,m2)\n",
        "\n",
        " loss=loss_data+0.1*loss_physics\n",
        " loss.backward()\n",
        " optimizer.step()\n",
        "\n",
        " if epoch %100==0:\n",
        "  print(f\"Epoch {epoch}, Loss: {loss.item():.6f}, Data Loss: {loss_data.item():.6f}, ODE Loss: {loss_physics.item():.6f}\")\n"
      ]
    },
    {
      "cell_type": "code",
      "execution_count": 29,
      "id": "45a31b7b",
      "metadata": {
        "colab": {
          "base_uri": "https://localhost:8080/"
        },
        "id": "45a31b7b",
        "outputId": "f08f5fbb-7fdc-4237-e629-98ee2ae4b35d"
      },
      "outputs": [
        {
          "output_type": "stream",
          "name": "stdout",
          "text": [
            "MAE of predicted trajectory vs ground truth: 0.120293\n",
            "Mean ODE residual: 0.203187\n"
          ]
        }
      ],
      "source": [
        "# EVALUATION\n",
        "model.eval()\n",
        "with torch.no_grad():\n",
        "    pred_test = model(times)\n",
        "    mae = torch.mean(torch.abs(pred_test - positions))\n",
        "    print(f\"MAE of predicted trajectory vs ground truth: {mae.item():.6f}\")\n",
        "\n",
        "# Mean ODE Residual\n",
        "residual = ode_loss(model, times, m1, m2)\n",
        "print(f\"Mean ODE residual: {residual.item():.6f}\")\n"
      ]
    },
    {
      "cell_type": "code",
      "source": [
        "model.eval()\n",
        "with torch.no_grad():\n",
        "    # Reshape T to have a batch dimension of 1\n",
        "    pred_T = model(T.view(1, -1))\n",
        "    x1_T = pred_T[:, :2]\n",
        "    x2_T = pred_T[:, 2:]\n",
        "    print(f\"x1(T={T.item()}): {x1_T.detach().numpy()}\")\n",
        "    print(f\"x2(T={T.item()}): {x2_T.detach().numpy()}\")"
      ],
      "metadata": {
        "colab": {
          "base_uri": "https://localhost:8080/"
        },
        "id": "wZ7rZT6WRnQ5",
        "outputId": "cd6a98d4-fe25-498c-89d7-db2f1cf108c4"
      },
      "id": "wZ7rZT6WRnQ5",
      "execution_count": 30,
      "outputs": [
        {
          "output_type": "stream",
          "name": "stdout",
          "text": [
            "x1(T=1.0): [[2.1337376 2.079543 ]]\n",
            "x2(T=1.0): [[4.215283 5.116272]]\n"
          ]
        }
      ]
    },
    {
      "cell_type": "code",
      "source": [
        "import matplotlib.pyplot as plt\n",
        "\n",
        "true_x1 = positions[:, :2].numpy()\n",
        "pred_x1 = model(times).detach().numpy()[:, :2]\n",
        "\n",
        "plt.plot(true_x1[:, 0], true_x1[:, 1], label='True x1')\n",
        "plt.plot(pred_x1[:, 0], pred_x1[:, 1], label='Predicted x1')\n",
        "plt.title(\"True vs Predicted Orbit of Body 1\")\n",
        "plt.xlabel(\"x\")\n",
        "plt.ylabel(\"y\")\n",
        "plt.legend()\n",
        "plt.grid()\n",
        "plt.axis(\"equal\")\n",
        "plt.show()"
      ],
      "metadata": {
        "colab": {
          "base_uri": "https://localhost:8080/",
          "height": 472
        },
        "id": "0kQ4Q6j4WRsX",
        "outputId": "87ce74d6-d23c-4baa-cf84-b83a578e4245"
      },
      "id": "0kQ4Q6j4WRsX",
      "execution_count": 31,
      "outputs": [
        {
          "output_type": "display_data",
          "data": {
            "text/plain": [
              "<Figure size 640x480 with 1 Axes>"
            ],
            "image/png": "[encoded data removed]"
          },
          "metadata": {}
        }
      ]
    }
  ],
  "metadata": {
    "colab": {
      "provenance": [],
      "gpuType": "T4"
    },
    "language_info": {
      "name": "python"
    },
    "kernelspec": {
      "name": "python3",
      "display_name": "Python 3"
    },
    "accelerator": "GPU"
  },
  "nbformat": 4,
  "nbformat_minor": 5
}